{
 "cells": [
  {
   "cell_type": "markdown",
   "metadata": {},
   "source": [
    "# Logistic regression using out of the box sklearn implementation\n",
    "\n",
    "In this notebook we will use the sklearn implementation of logistic regression to classify the wine dataset."
   ]
  },
  {
   "cell_type": "code",
   "execution_count": 11,
   "metadata": {},
   "outputs": [],
   "source": [
    "import pandas as pd\n",
    "import numpy as np\n",
    "import matplotlib.pyplot as plt\n",
    "from sklearn.metrics import roc_auc_score, f1_score, accuracy_score, roc_curve\n",
    "from sklearn.preprocessing import StandardScaler\n",
    "from imblearn.over_sampling import RandomOverSampler\n",
    "\n",
    "from sklearn.linear_model import LogisticRegression"
   ]
  },
  {
   "cell_type": "markdown",
   "metadata": {},
   "source": [
    "Load data and rename columns.\n",
    "\n",
    "Target is defined as:\n",
    "- target=1 if quality >= 6.5\n",
    "- target=0 if quality < 6.5"
   ]
  },
  {
   "cell_type": "code",
   "execution_count": 4,
   "metadata": {},
   "outputs": [],
   "source": [
    "data = pd.read_csv(\"data/winequality-red.csv\")\n",
    "data[\"target\"] = data[\"quality\"] >= 6.5\n",
    "data[\"target\"] = data[\"target\"].astype(int)\n",
    "data.drop(\"quality\", axis=1, inplace=True)\n",
    "cols_pred = data.columns[:-1].tolist()\n",
    "\n",
    "create_naming = (\n",
    "    lambda x: x.replace(\" \", \"_\")\n",
    "    .replace(\"(\", \"\")\n",
    "    .replace(\")\", \"\")\n",
    "    .replace(\"/\", \"_\")\n",
    "    .replace(\"-\", \"_\")\n",
    "    .lower()\n",
    ")\n",
    "data.columns = [create_naming(col) for col in data.columns]\n",
    "cols_pred = data.columns[:-1].tolist()"
   ]
  },
  {
   "cell_type": "markdown",
   "metadata": {},
   "source": [
    "Use standard scaler to scale the data.\n",
    "\n",
    "Next we will oversample the data with SMOTE.\n",
    "\n",
    "Split the data into train and test sets (80/20)."
   ]
  },
  {
   "cell_type": "code",
   "execution_count": 5,
   "metadata": {},
   "outputs": [
    {
     "name": "stdout",
     "output_type": "stream",
     "text": [
      "[ 8.31963727  0.52782051  0.27097561  2.5388055   0.08746654 15.87492183\n",
      " 46.46779237  0.99674668  3.3111132   0.65814884 10.42298311]\n",
      "[1.74055180e+00 1.79003704e-01 1.94740214e-01 1.40948711e+00\n",
      " 4.70505826e-02 1.04568856e+01 3.28850367e+01 1.88674370e-03\n",
      " 1.54338181e-01 1.69453967e-01 1.06533430e+00]\n",
      "target\n",
      "0    1382\n",
      "1     217\n",
      "Name: count, dtype: int64\n",
      "(1599, 12)\n",
      "target\n",
      "0.0    1382\n",
      "1.0    1382\n",
      "Name: count, dtype: int64\n",
      "(2764, 12)\n"
     ]
    }
   ],
   "source": [
    "# Scale data\n",
    "scaler = StandardScaler()\n",
    "data[cols_pred] = scaler.fit_transform(data[cols_pred])\n",
    "print(scaler.mean_)\n",
    "print(scaler.scale_)\n",
    "\n",
    "# Oversampling with SMOTE\n",
    "print(data[\"target\"].value_counts())\n",
    "print(data.shape)\n",
    "oversample = RandomOverSampler(sampling_strategy=\"minority\")\n",
    "X = data[cols_pred].values\n",
    "y = data[\"target\"].values\n",
    "X_samp, y_samp = oversample.fit_resample(X, y)\n",
    "data = pd.DataFrame(\n",
    "    np.concatenate((X_samp, y_samp.reshape(-1, 1)), axis=1),\n",
    "    columns=cols_pred + [\"target\"],\n",
    ")\n",
    "print(data[\"target\"].value_counts())\n",
    "print(data.shape)\n",
    "\n",
    "# Split data\n",
    "train = data.sample(frac=0.8, random_state=42)\n",
    "test = data.drop(train.index)"
   ]
  },
  {
   "cell_type": "code",
   "execution_count": 6,
   "metadata": {},
   "outputs": [
    {
     "name": "stderr",
     "output_type": "stream",
     "text": [
      "/Users/danielherman/Documents/projects/sql-logreg/env/lib/python3.11/site-packages/sklearn/linear_model/_logistic.py:1183: FutureWarning: `penalty='none'`has been deprecated in 1.2 and will be removed in 1.4. To keep the past behaviour, set `penalty=None`.\n",
      "  warnings.warn(\n"
     ]
    },
    {
     "data": {
      "text/plain": [
       "{'fixed_acidity': 0.4855786312678889,\n",
       " 'volatile_acidity': -0.4120416840229834,\n",
       " 'citric_acid': 0.07089895252902104,\n",
       " 'residual_sugar': 0.3595400975302667,\n",
       " 'chlorides': -0.435839826016003,\n",
       " 'free_sulfur_dioxide': 0.16808967240647915,\n",
       " 'total_sulfur_dioxide': -0.5700094532812567,\n",
       " 'density': -0.46064532498045757,\n",
       " 'ph': -0.03996876439720359,\n",
       " 'sulphates': 0.6975803572523275,\n",
       " 'alcohol': 0.9329034295589612,\n",
       " 'bias': -0.9809791258033587}"
      ]
     },
     "execution_count": 6,
     "metadata": {},
     "output_type": "execute_result"
    }
   ],
   "source": [
    "model = LogisticRegression(penalty=\"none\", solver=\"newton-cg\", max_iter=1000)\n",
    "model.fit(train[cols_pred], train[\"target\"])\n",
    "\n",
    "weights = {}\n",
    "for c, w in zip(cols_pred, model.coef_[0]):\n",
    "    weights[c] = w\n",
    "weights[\"bias\"] = model.intercept_[0]\n",
    "weights"
   ]
  },
  {
   "cell_type": "markdown",
   "metadata": {},
   "source": [
    "## Evaluation"
   ]
  },
  {
   "cell_type": "code",
   "execution_count": 13,
   "metadata": {},
   "outputs": [
    {
     "data": {
      "text/html": [
       "<div>\n",
       "<style scoped>\n",
       "    .dataframe tbody tr th:only-of-type {\n",
       "        vertical-align: middle;\n",
       "    }\n",
       "\n",
       "    .dataframe tbody tr th {\n",
       "        vertical-align: top;\n",
       "    }\n",
       "\n",
       "    .dataframe thead th {\n",
       "        text-align: right;\n",
       "    }\n",
       "</style>\n",
       "<table border=\"1\" class=\"dataframe\">\n",
       "  <thead>\n",
       "    <tr style=\"text-align: right;\">\n",
       "      <th>pred</th>\n",
       "      <th>0</th>\n",
       "      <th>1</th>\n",
       "    </tr>\n",
       "    <tr>\n",
       "      <th>target</th>\n",
       "      <th></th>\n",
       "      <th></th>\n",
       "    </tr>\n",
       "  </thead>\n",
       "  <tbody>\n",
       "    <tr>\n",
       "      <th>0.0</th>\n",
       "      <td>859</td>\n",
       "      <td>242</td>\n",
       "    </tr>\n",
       "    <tr>\n",
       "      <th>1.0</th>\n",
       "      <td>181</td>\n",
       "      <td>929</td>\n",
       "    </tr>\n",
       "  </tbody>\n",
       "</table>\n",
       "</div>"
      ],
      "text/plain": [
       "pred      0    1\n",
       "target          \n",
       "0.0     859  242\n",
       "1.0     181  929"
      ]
     },
     "execution_count": 13,
     "metadata": {},
     "output_type": "execute_result"
    }
   ],
   "source": [
    "df = train[[\"target\"]].copy()\n",
    "df[\"score\"] = model.predict_proba(train[cols_pred])[:, 1]\n",
    "df[\"pred\"] = df[\"score\"] >= 0.5\n",
    "df[\"pred\"] = df[\"pred\"].astype(int)\n",
    "pd.crosstab(df[\"target\"], df[\"pred\"])"
   ]
  },
  {
   "cell_type": "code",
   "execution_count": 10,
   "metadata": {},
   "outputs": [
    {
     "data": {
      "text/html": [
       "<div>\n",
       "<style scoped>\n",
       "    .dataframe tbody tr th:only-of-type {\n",
       "        vertical-align: middle;\n",
       "    }\n",
       "\n",
       "    .dataframe tbody tr th {\n",
       "        vertical-align: top;\n",
       "    }\n",
       "\n",
       "    .dataframe thead th {\n",
       "        text-align: right;\n",
       "    }\n",
       "</style>\n",
       "<table border=\"1\" class=\"dataframe\">\n",
       "  <thead>\n",
       "    <tr style=\"text-align: right;\">\n",
       "      <th>pred</th>\n",
       "      <th>0</th>\n",
       "      <th>1</th>\n",
       "    </tr>\n",
       "    <tr>\n",
       "      <th>target</th>\n",
       "      <th></th>\n",
       "      <th></th>\n",
       "    </tr>\n",
       "  </thead>\n",
       "  <tbody>\n",
       "    <tr>\n",
       "      <th>0.0</th>\n",
       "      <td>215</td>\n",
       "      <td>66</td>\n",
       "    </tr>\n",
       "    <tr>\n",
       "      <th>1.0</th>\n",
       "      <td>36</td>\n",
       "      <td>236</td>\n",
       "    </tr>\n",
       "  </tbody>\n",
       "</table>\n",
       "</div>"
      ],
      "text/plain": [
       "pred      0    1\n",
       "target          \n",
       "0.0     215   66\n",
       "1.0      36  236"
      ]
     },
     "execution_count": 10,
     "metadata": {},
     "output_type": "execute_result"
    }
   ],
   "source": [
    "df = test[[\"target\"]].copy()\n",
    "df[\"score\"] = model.predict_proba(test[cols_pred])[:, 1]\n",
    "df[\"pred\"] = df[\"score\"] >= 0.5\n",
    "df[\"pred\"] = df[\"pred\"].astype(int)\n",
    "pd.crosstab(df[\"target\"], df[\"pred\"])"
   ]
  },
  {
   "cell_type": "code",
   "execution_count": 15,
   "metadata": {},
   "outputs": [
    {
     "name": "stdout",
     "output_type": "stream",
     "text": [
      "Train AUC: 0.876\n",
      "Test gini: 0.798\n",
      "Test AUC: 0.899\n",
      "Test gini: 0.798\n"
     ]
    },
    {
     "data": {
      "text/plain": [
       "<matplotlib.legend.Legend at 0x17d995390>"
      ]
     },
     "execution_count": 15,
     "metadata": {},
     "output_type": "execute_result"
    },
    {
     "data": {
      "image/png": "[encoded data removed]",
      "text/plain": [
       "<Figure size 640x480 with 1 Axes>"
      ]
     },
     "metadata": {},
     "output_type": "display_data"
    }
   ],
   "source": [
    "auc_train = roc_auc_score(train[\"target\"], model.predict_proba(train[cols_pred])[:, 1])\n",
    "auc_test = roc_auc_score(test[\"target\"], model.predict_proba(test[cols_pred])[:, 1])\n",
    "print(f\"Train AUC: {auc_train:.3f}\")\n",
    "print(f\"Test gini: {(auc_test - 0.5) * 2:.3f}\")\n",
    "print(f\"Test AUC: {auc_test:.3f}\")\n",
    "print(f\"Test gini: {(auc_test - 0.5) * 2:.3f}\")\n",
    "\n",
    "fpr, tpr, _ = roc_curve(test[\"target\"], model.predict_proba(test[cols_pred])[:, 1])\n",
    "plt.plot(fpr, tpr, label=\"test\")\n",
    "fpr, tpr, _ = roc_curve(train[\"target\"], model.predict_proba(train[cols_pred])[:, 1])\n",
    "plt.plot(fpr, tpr, label=\"train\")\n",
    "plt.ylabel(\"True Positive Rate\")\n",
    "plt.xlabel(\"False Positive Rate\")\n",
    "plt.legend()"
   ]
  },
  {
   "cell_type": "code",
   "execution_count": 17,
   "metadata": {},
   "outputs": [
    {
     "name": "stdout",
     "output_type": "stream",
     "text": [
      "Train F1: 0.815\n",
      "Test F1: 0.822\n"
     ]
    }
   ],
   "source": [
    "f1_train = f1_score(train[\"target\"], model.predict(train[cols_pred]))\n",
    "f1_test = f1_score(test[\"target\"], model.predict(test[cols_pred]))\n",
    "\n",
    "print(f\"Train F1: {f1_train:.3f}\")\n",
    "print(f\"Test F1: {f1_test:.3f}\")"
   ]
  },
  {
   "cell_type": "code",
   "execution_count": null,
   "metadata": {},
   "outputs": [],
   "source": []
  }
 ],
 "metadata": {
  "kernelspec": {
   "display_name": "env",
   "language": "python",
   "name": "python3"
  },
  "language_info": {
   "codemirror_mode": {
    "name": "ipython",
    "version": 3
   },
   "file_extension": ".py",
   "mimetype": "text/x-python",
   "name": "python",
   "nbconvert_exporter": "python",
   "pygments_lexer": "ipython3",
   "version": "3.11.5"
  },
  "orig_nbformat": 4
 },
 "nbformat": 4,
 "nbformat_minor": 2
}
